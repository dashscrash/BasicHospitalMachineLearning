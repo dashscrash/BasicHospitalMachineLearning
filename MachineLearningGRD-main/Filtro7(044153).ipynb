{
 "cells": [
  {
   "cell_type": "code",
   "execution_count": 1,
   "metadata": {},
   "outputs": [],
   "source": [
    "import pandas as pd\n",
    "import numpy as np\n",
    "import tensorflow as tf\n",
    "from tensorflow import keras\n",
    "from sklearn.model_selection import train_test_split, KFold, cross_val_predict\n",
    "from sklearn.preprocessing import LabelEncoder\n",
    "import datetime\n",
    "import matplotlib.pyplot as plt\n",
    "import seaborn as sns\n",
    "from keras_preprocessing.sequence import pad_sequences\n",
    "from keras.utils import to_categorical\n",
    "from keras.optimizers import Adam\n",
    "from keras.models import Sequential\n",
    "from keras.layers import Embedding, Flatten, Dense, Input, concatenate\n",
    "from keras.callbacks import TensorBoard \n",
    "from sklearn.metrics import classification_report, confusion_matrix, accuracy_score,  precision_score, recall_score, f1_score\n",
    "from keras.wrappers.scikit_learn import KerasClassifier\n",
    "from sklearn.neighbors import KNeighborsClassifier\n",
    "from collections import Counter\n"
   ]
  },
  {
   "cell_type": "code",
   "execution_count": 2,
   "metadata": {},
   "outputs": [],
   "source": [
    "corpus=[] #Crea lista corpus que contiene \n",
    "target=[] #Crea lista target que contiene \n",
    "edad=[] #Crea lista edad que contiene \n",
    "sexo=[] #Crea lista sexo que contiene \n",
    "severidad=[] #Crea lista severidad que contiene \n",
    "\n",
    "archivo=open(\"dataset_elpino.csv\",encoding=\"utf-8\")\n",
    "header=archivo.readline().strip().split(\";\")\n",
    "features=[] #Crea lista features que contiene \n",
    "for col in header: #recorre la cantidad de columnas en el csv\n",
    "    col=col.split(\"-\")[0].strip() \n",
    "    if col.startswith(\"Diag\") or col.startswith(\"Proc\"): #separa los diag de los proc.\n",
    "        col=col.split(\" \")\n",
    "        col=col[0]+col[1]\n",
    "    features.append(col) #Añade todas los headers de las columnas (diagnosticos, procedimientos)\n",
    "for linea in archivo: \n",
    "    row=[] #crea una lista para almacenar la fila actual\n",
    "    linea=linea.strip().split(\";\") #separa la lista por ;\n",
    "    for i in range(len(linea)):\n",
    "        col=linea[i].split(\"-\")[0].strip()\n",
    "        if i==67: # Si el índice \"i\" es 67 (columna 68).\n",
    "            grd=col\n",
    "            #target.append(grd[-1])\n",
    "            target.append(grd) #almacena el grd de la fila actual\n",
    "        elif i==66:\n",
    "            sexo.append(1 if col==\"Mujer\" else 0) # almacena el sexo 1 si es mujer 0 si es hombre\n",
    "        elif i==65:\n",
    "            edad.append(int(col))#se alamacena la edad\n",
    "        else:\n",
    "            row.append(col) #se guardan el codigo de la columna correspondientes a la fila\n",
    "    corpus.append(row)"
   ]
  },
  {
   "cell_type": "code",
   "execution_count": 3,
   "metadata": {},
   "outputs": [
    {
     "data": {
      "text/html": [
       "<div>\n",
       "<style scoped>\n",
       "    .dataframe tbody tr th:only-of-type {\n",
       "        vertical-align: middle;\n",
       "    }\n",
       "\n",
       "    .dataframe tbody tr th {\n",
       "        vertical-align: top;\n",
       "    }\n",
       "\n",
       "    .dataframe thead th {\n",
       "        text-align: right;\n",
       "    }\n",
       "</style>\n",
       "<table border=\"1\" class=\"dataframe\">\n",
       "  <thead>\n",
       "    <tr style=\"text-align: right;\">\n",
       "      <th></th>\n",
       "      <th>Diag01</th>\n",
       "      <th>Diag02</th>\n",
       "      <th>Diag03</th>\n",
       "      <th>Diag04</th>\n",
       "      <th>Diag05</th>\n",
       "      <th>Diag06</th>\n",
       "      <th>Diag07</th>\n",
       "      <th>Diag08</th>\n",
       "      <th>Diag09</th>\n",
       "      <th>Diag10</th>\n",
       "      <th>...</th>\n",
       "      <th>Proced22</th>\n",
       "      <th>Proced23</th>\n",
       "      <th>Proced24</th>\n",
       "      <th>Proced25</th>\n",
       "      <th>Proced26</th>\n",
       "      <th>Proced27</th>\n",
       "      <th>Proced28</th>\n",
       "      <th>Proced29</th>\n",
       "      <th>Proced30</th>\n",
       "      <th>GRD</th>\n",
       "    </tr>\n",
       "  </thead>\n",
       "  <tbody>\n",
       "    <tr>\n",
       "      <th>0</th>\n",
       "      <td>A41.8</td>\n",
       "      <td>B37.6</td>\n",
       "      <td>I39.8</td>\n",
       "      <td>N10</td>\n",
       "      <td>B96.1</td>\n",
       "      <td>L89.9</td>\n",
       "      <td>L08.9</td>\n",
       "      <td>B96.2</td>\n",
       "      <td>A41.5</td>\n",
       "      <td>J86.9</td>\n",
       "      <td>...</td>\n",
       "      <td>99.04</td>\n",
       "      <td>90.39</td>\n",
       "      <td>99.84</td>\n",
       "      <td>88.72</td>\n",
       "      <td>90.42</td>\n",
       "      <td>90.52</td>\n",
       "      <td>91.39</td>\n",
       "      <td>91.33</td>\n",
       "      <td>87.03</td>\n",
       "      <td>184103</td>\n",
       "    </tr>\n",
       "    <tr>\n",
       "      <th>1</th>\n",
       "      <td>U07.1</td>\n",
       "      <td>J12.8</td>\n",
       "      <td>R06.0</td>\n",
       "      <td>R05</td>\n",
       "      <td>R50.9</td>\n",
       "      <td>Z29.0</td>\n",
       "      <td>Z01.7</td>\n",
       "      <td>J96.00</td>\n",
       "      <td>J94.2</td>\n",
       "      <td>J92.9</td>\n",
       "      <td>...</td>\n",
       "      <td>91.69</td>\n",
       "      <td>87.44</td>\n",
       "      <td>91.62</td>\n",
       "      <td>90.43</td>\n",
       "      <td>91.39</td>\n",
       "      <td>90.52</td>\n",
       "      <td>91.32</td>\n",
       "      <td>96.59</td>\n",
       "      <td>90.99</td>\n",
       "      <td>041013</td>\n",
       "    </tr>\n",
       "    <tr>\n",
       "      <th>2</th>\n",
       "      <td>K56.5</td>\n",
       "      <td>R57.2</td>\n",
       "      <td>R57.1</td>\n",
       "      <td>J80</td>\n",
       "      <td>Y95</td>\n",
       "      <td>J15.0</td>\n",
       "      <td>U82.2</td>\n",
       "      <td>B95.6</td>\n",
       "      <td>B96.8</td>\n",
       "      <td>B37.1</td>\n",
       "      <td>...</td>\n",
       "      <td>91.33</td>\n",
       "      <td>90.39</td>\n",
       "      <td>99.84</td>\n",
       "      <td>91.73</td>\n",
       "      <td>90.53</td>\n",
       "      <td>99.26</td>\n",
       "      <td>89.39</td>\n",
       "      <td>89.66</td>\n",
       "      <td>89.65</td>\n",
       "      <td>041013</td>\n",
       "    </tr>\n",
       "    <tr>\n",
       "      <th>3</th>\n",
       "      <td>K76.8</td>\n",
       "      <td>K66.1</td>\n",
       "      <td>N18.5</td>\n",
       "      <td>D64.9</td>\n",
       "      <td>E87.5</td>\n",
       "      <td>E87.2</td>\n",
       "      <td>J81</td>\n",
       "      <td>N17.8</td>\n",
       "      <td>J44.9</td>\n",
       "      <td>R41.0</td>\n",
       "      <td>...</td>\n",
       "      <td>96.59</td>\n",
       "      <td>94.19</td>\n",
       "      <td>57.94</td>\n",
       "      <td>00.13</td>\n",
       "      <td>00.17</td>\n",
       "      <td>99.04</td>\n",
       "      <td>99.18</td>\n",
       "      <td>99.21</td>\n",
       "      <td>99.23</td>\n",
       "      <td>041023</td>\n",
       "    </tr>\n",
       "    <tr>\n",
       "      <th>4</th>\n",
       "      <td>T81.0</td>\n",
       "      <td>Y83.2</td>\n",
       "      <td>S31.1</td>\n",
       "      <td>S36.80</td>\n",
       "      <td>W31.62</td>\n",
       "      <td>J96.09</td>\n",
       "      <td>J15.0</td>\n",
       "      <td>U82.2</td>\n",
       "      <td>U07.1</td>\n",
       "      <td>N39.0</td>\n",
       "      <td>...</td>\n",
       "      <td>99.21</td>\n",
       "      <td>99.29</td>\n",
       "      <td>90.52</td>\n",
       "      <td>91.39</td>\n",
       "      <td>91.32</td>\n",
       "      <td>93.90</td>\n",
       "      <td>99.15</td>\n",
       "      <td>96.59</td>\n",
       "      <td>45.13</td>\n",
       "      <td>041023</td>\n",
       "    </tr>\n",
       "    <tr>\n",
       "      <th>...</th>\n",
       "      <td>...</td>\n",
       "      <td>...</td>\n",
       "      <td>...</td>\n",
       "      <td>...</td>\n",
       "      <td>...</td>\n",
       "      <td>...</td>\n",
       "      <td>...</td>\n",
       "      <td>...</td>\n",
       "      <td>...</td>\n",
       "      <td>...</td>\n",
       "      <td>...</td>\n",
       "      <td>...</td>\n",
       "      <td>...</td>\n",
       "      <td>...</td>\n",
       "      <td>...</td>\n",
       "      <td>...</td>\n",
       "      <td>...</td>\n",
       "      <td>...</td>\n",
       "      <td>...</td>\n",
       "      <td>...</td>\n",
       "      <td>...</td>\n",
       "    </tr>\n",
       "    <tr>\n",
       "      <th>14556</th>\n",
       "      <td>E10.1</td>\n",
       "      <td>J45.9</td>\n",
       "      <td>F10.2</td>\n",
       "      <td>F17.2</td>\n",
       "      <td>Z91.1</td>\n",
       "      <td></td>\n",
       "      <td></td>\n",
       "      <td></td>\n",
       "      <td></td>\n",
       "      <td></td>\n",
       "      <td>...</td>\n",
       "      <td></td>\n",
       "      <td></td>\n",
       "      <td></td>\n",
       "      <td></td>\n",
       "      <td></td>\n",
       "      <td></td>\n",
       "      <td></td>\n",
       "      <td></td>\n",
       "      <td></td>\n",
       "      <td>104101</td>\n",
       "    </tr>\n",
       "    <tr>\n",
       "      <th>14557</th>\n",
       "      <td>S09.9</td>\n",
       "      <td>W18.24</td>\n",
       "      <td>R55</td>\n",
       "      <td></td>\n",
       "      <td></td>\n",
       "      <td></td>\n",
       "      <td></td>\n",
       "      <td></td>\n",
       "      <td></td>\n",
       "      <td></td>\n",
       "      <td>...</td>\n",
       "      <td></td>\n",
       "      <td></td>\n",
       "      <td></td>\n",
       "      <td></td>\n",
       "      <td></td>\n",
       "      <td></td>\n",
       "      <td></td>\n",
       "      <td></td>\n",
       "      <td></td>\n",
       "      <td>014242</td>\n",
       "    </tr>\n",
       "    <tr>\n",
       "      <th>14558</th>\n",
       "      <td>K92.1</td>\n",
       "      <td>I10</td>\n",
       "      <td>E11.9</td>\n",
       "      <td>I50.9</td>\n",
       "      <td>K25.9</td>\n",
       "      <td>M16.9</td>\n",
       "      <td>G47.3</td>\n",
       "      <td>Z99.8</td>\n",
       "      <td></td>\n",
       "      <td></td>\n",
       "      <td>...</td>\n",
       "      <td></td>\n",
       "      <td></td>\n",
       "      <td></td>\n",
       "      <td></td>\n",
       "      <td></td>\n",
       "      <td></td>\n",
       "      <td></td>\n",
       "      <td></td>\n",
       "      <td></td>\n",
       "      <td>064182</td>\n",
       "    </tr>\n",
       "    <tr>\n",
       "      <th>14559</th>\n",
       "      <td>E78.1</td>\n",
       "      <td>I10</td>\n",
       "      <td>Z92.2</td>\n",
       "      <td></td>\n",
       "      <td></td>\n",
       "      <td></td>\n",
       "      <td></td>\n",
       "      <td></td>\n",
       "      <td></td>\n",
       "      <td></td>\n",
       "      <td>...</td>\n",
       "      <td></td>\n",
       "      <td></td>\n",
       "      <td></td>\n",
       "      <td></td>\n",
       "      <td></td>\n",
       "      <td></td>\n",
       "      <td></td>\n",
       "      <td></td>\n",
       "      <td></td>\n",
       "      <td>104121</td>\n",
       "    </tr>\n",
       "    <tr>\n",
       "      <th>14560</th>\n",
       "      <td>S06.51</td>\n",
       "      <td>S06.21</td>\n",
       "      <td>W18.09</td>\n",
       "      <td>J69.0</td>\n",
       "      <td>D29.1</td>\n",
       "      <td>Z59.0</td>\n",
       "      <td>Z02.7</td>\n",
       "      <td></td>\n",
       "      <td></td>\n",
       "      <td></td>\n",
       "      <td>...</td>\n",
       "      <td>93.96</td>\n",
       "      <td>93.99</td>\n",
       "      <td>89.66</td>\n",
       "      <td>89.66</td>\n",
       "      <td>90.39</td>\n",
       "      <td>90.42</td>\n",
       "      <td>90.52</td>\n",
       "      <td>90.59</td>\n",
       "      <td>90.59</td>\n",
       "      <td>041203</td>\n",
       "    </tr>\n",
       "  </tbody>\n",
       "</table>\n",
       "<p>14561 rows × 66 columns</p>\n",
       "</div>"
      ],
      "text/plain": [
       "       Diag01  Diag02  Diag03  Diag04  Diag05  Diag06 Diag07  Diag08 Diag09  \\\n",
       "0       A41.8   B37.6   I39.8     N10   B96.1   L89.9  L08.9   B96.2  A41.5   \n",
       "1       U07.1   J12.8   R06.0     R05   R50.9   Z29.0  Z01.7  J96.00  J94.2   \n",
       "2       K56.5   R57.2   R57.1     J80     Y95   J15.0  U82.2   B95.6  B96.8   \n",
       "3       K76.8   K66.1   N18.5   D64.9   E87.5   E87.2    J81   N17.8  J44.9   \n",
       "4       T81.0   Y83.2   S31.1  S36.80  W31.62  J96.09  J15.0   U82.2  U07.1   \n",
       "...       ...     ...     ...     ...     ...     ...    ...     ...    ...   \n",
       "14556   E10.1   J45.9   F10.2   F17.2   Z91.1                                 \n",
       "14557   S09.9  W18.24     R55                                                 \n",
       "14558   K92.1     I10   E11.9   I50.9   K25.9   M16.9  G47.3   Z99.8          \n",
       "14559   E78.1     I10   Z92.2                                                 \n",
       "14560  S06.51  S06.21  W18.09   J69.0   D29.1   Z59.0  Z02.7                  \n",
       "\n",
       "      Diag10  ... Proced22 Proced23 Proced24 Proced25 Proced26 Proced27  \\\n",
       "0      J86.9  ...    99.04    90.39    99.84    88.72    90.42    90.52   \n",
       "1      J92.9  ...    91.69    87.44    91.62    90.43    91.39    90.52   \n",
       "2      B37.1  ...    91.33    90.39    99.84    91.73    90.53    99.26   \n",
       "3      R41.0  ...    96.59    94.19    57.94    00.13    00.17    99.04   \n",
       "4      N39.0  ...    99.21    99.29    90.52    91.39    91.32    93.90   \n",
       "...      ...  ...      ...      ...      ...      ...      ...      ...   \n",
       "14556         ...                                                         \n",
       "14557         ...                                                         \n",
       "14558         ...                                                         \n",
       "14559         ...                                                         \n",
       "14560         ...    93.96    93.99    89.66    89.66    90.39    90.42   \n",
       "\n",
       "      Proced28 Proced29 Proced30     GRD  \n",
       "0        91.39    91.33    87.03  184103  \n",
       "1        91.32    96.59    90.99  041013  \n",
       "2        89.39    89.66    89.65  041013  \n",
       "3        99.18    99.21    99.23  041023  \n",
       "4        99.15    96.59    45.13  041023  \n",
       "...        ...      ...      ...     ...  \n",
       "14556                             104101  \n",
       "14557                             014242  \n",
       "14558                             064182  \n",
       "14559                             104121  \n",
       "14560    90.52    90.59    90.59  041203  \n",
       "\n",
       "[14561 rows x 66 columns]"
      ]
     },
     "execution_count": 3,
     "metadata": {},
     "output_type": "execute_result"
    }
   ],
   "source": [
    "df=pd.DataFrame(corpus,columns=features[:-3])  #crea una tabla de datos (un DataFrame) a partir de la información que le damos. ingresamos corpus (matris con los codigos de los diagnosticos ) y fetures (como queremos dividir las columnas)\n",
    "df[\"GRD\"]=target #Esto crea una nueva columna en el DataFrame df y la nombra \"GRD\".\n",
    "df"
   ]
  },
  {
   "cell_type": "code",
   "execution_count": 4,
   "metadata": {},
   "outputs": [],
   "source": [
    "dfsexo = pd.DataFrame({\"Sexo\": sexo, \"GRD\": target})"
   ]
  },
  {
   "cell_type": "code",
   "execution_count": 5,
   "metadata": {},
   "outputs": [],
   "source": [
    "filtro=(df[\"GRD\"]=='044151') | (df[\"GRD\"]=='044152') | (df[\"GRD\"]=='044153') #Crea un filtro en el cual se crea un data set solo con los codigos ingresados"
   ]
  },
  {
   "cell_type": "code",
   "execution_count": 6,
   "metadata": {},
   "outputs": [],
   "source": [
    "data=df[filtro] #crea una data especialmete con el filtro"
   ]
  },
  {
   "cell_type": "code",
   "execution_count": 7,
   "metadata": {},
   "outputs": [
    {
     "data": {
      "image/png": "[encoded data removed]",
      "text/plain": [
       "<Figure size 1000x600 with 1 Axes>"
      ]
     },
     "metadata": {},
     "output_type": "display_data"
    },
    {
     "name": "stdout",
     "output_type": "stream",
     "text": [
      "\n",
      "==================================================\n",
      "\n"
     ]
    }
   ],
   "source": [
    "plt.figure(figsize=(10, 6))\n",
    "sns.countplot(x='GRD', data=data)\n",
    "plt.title('Distribución de la variable GRD')\n",
    "plt.xlabel('GRD')\n",
    "plt.ylabel('Frecuencia')\n",
    "plt.show()\n",
    "print(\"\\n\" + \"=\"*50 + \"\\n\")"
   ]
  },
  {
   "cell_type": "code",
   "execution_count": 8,
   "metadata": {},
   "outputs": [],
   "source": [
    "datasexo=dfsexo[filtro] #crea una data especialmete con el filtro\n"
   ]
  },
  {
   "cell_type": "code",
   "execution_count": 9,
   "metadata": {},
   "outputs": [
    {
     "name": "stdout",
     "output_type": "stream",
     "text": [
      "Hay 197 ceros en la columna 'Sexo'\n"
     ]
    }
   ],
   "source": [
    "cantidad_ceros = (datasexo[\"Sexo\"] == 0).sum()\n",
    "if cantidad_ceros > 0:\n",
    "    print(f\"Hay {cantidad_ceros} ceros en la columna 'Sexo'\")\n",
    "else:\n",
    "    print(\"No hay ningún 0 (Homre) en la columna 'Sexo'\")"
   ]
  },
  {
   "cell_type": "code",
   "execution_count": 10,
   "metadata": {},
   "outputs": [],
   "source": [
    "features_procedimientos=[] #crea una lista de procediminetos\n",
    "features_diagnosticos=[] #crea una lista de diagnosticos\n",
    "for j in range(1,36):  #recorre las columnas relacionadas al diagnostico del grd\n",
    "    field=\"Diag\"+str(j).zfill(2) #rellena el texto con el numero de la columna, ---.zfill(2) rellena la cadena de texto con ceros a la izquierda hasta que tenga una longitud de 2 caracteres. Por ejemplo, si j es 1, str(j) será \"1\", y .zfill(2) lo convertirá en \"01\". Si j es 10, str(j) será \"10\", y .zfill(2) lo dejará como \"10\".\n",
    "    features_diagnosticos.append(field) #Esto agrega el valor de field a la lista features_diagnosticos.\n",
    "for j in range(1,31): #recorre las columnas relacionadas al procedimiento del grd\n",
    "    field=\"Proced\"+str(j).zfill(2)#.rellena el texto con el numero de la columna\n",
    "    features_procedimientos.append(field)#Esto agrega el valor de field a la lista features_procedimientos.\n"
   ]
  },
  {
   "cell_type": "code",
   "execution_count": 11,
   "metadata": {},
   "outputs": [
    {
     "name": "stdout",
     "output_type": "stream",
     "text": [
      "Diagnósticos:  600\n",
      "Procedimientos:  156\n",
      "Vocabulario:  757\n"
     ]
    }
   ],
   "source": [
    "procedimientos={}#Esto crea un diccionario vacío llamado procedimientos. Este diccionario se utilizará para contar la frecuencia de cada código de procedimiento.\n",
    "diagnosticos={}#Esto crea un diccionario vacío llamado diagnosticos. Este diccionario se utilizará para contar la frecuencia de cada código de diagnosticos.\n",
    "for i, row in data.iterrows():#Esto inicia un bucle for que itera sobre cada fila del  data\n",
    "    for j in range(1,36): #recorre las columas dianostico\n",
    "        field=\"Diag\"+str(j).zfill(2) #rellena el texto con el numero de la columna\n",
    "        if row[field] not in diagnosticos:#esto verifica si el valor de la celda actual (el código de diagnóstico) ya existe como clave en el diccionario diagnosticos.\n",
    "            diagnosticos[row[field]]=1 #Si el código de diagnóstico no existe en el diccionario, se agrega como clave con un valor de 1\n",
    "        else:\n",
    "            diagnosticos[row[field]]+=1#suma uno al contador de diagnosticos\n",
    "    for j in range(1,31):#recorre las columas procedimientos\n",
    "        field=\"Proced\"+str(j).zfill(2) #rellena el texto con el numero de la columna\n",
    "        if row[field] not in procedimientos:#esto verifica si el valor de la celda actual (el código de procedimientos) ya existe como clave en el diccionario procedimientos.\n",
    "            procedimientos[row[field]]=1#Si el código de procedimientos no existe en el diccionario, se agrega como clave con un valor de 1\n",
    "        else:\n",
    "            procedimientos[row[field]]+=1#suma uno al contador de procedimientos\n",
    "token_diagnosticos=list(diagnosticos.keys())#Esto crea una lista llamada token_diagnosticos que contiene todos los códigos de diagnóstico únicos encontrados en el DataFrame.\n",
    "token_procedimientos=list(procedimientos.keys())#Esto crea una lista llamada token_procedimientos que contiene todos los códigos de procedimientos únicos encontrados en el DataFrame.\n",
    "vocabulario=len(token_diagnosticos)+len(token_procedimientos)+1#Esto calcula el tamaño del vocabulario total, que es la suma del número de diagnósticos únicos, el número de procedimientos únicos\n",
    "print(\"Diagnósticos: \",len(token_diagnosticos))\n",
    "print(\"Procedimientos: \",len(token_procedimientos))\n",
    "print(\"Vocabulario: \",vocabulario)"
   ]
  },
  {
   "cell_type": "code",
   "execution_count": 12,
   "metadata": {},
   "outputs": [
    {
     "data": {
      "text/plain": [
       "600"
      ]
     },
     "execution_count": 12,
     "metadata": {},
     "output_type": "execute_result"
    }
   ],
   "source": [
    "token_rows=[]#Esto crea una lista vacía llamada token_rows\n",
    "for i, row in data.iterrows():\n",
    "    token_row=[]#Crea una lista vacía llamada token_row para almacenar los tokens numéricos de la fila actual.\n",
    "    for j in range(1,36):#bucle entre las columnas de diagnostico\n",
    "        field=\"Diag\"+str(j).zfill(2)#rellena el texto con el numero de la columna\n",
    "        token_row.append(1+token_diagnosticos.index(row[field])) #obtiene el código de diagnóstico de la celda actual, encuentra el índice del código de diagnóstico en la lista token_diagnosticos, suma 1 al índice encontrado. Esto asegura que los tokens de diagnóstico comiencen desde 1 en lugar de 0.agrega el token numérico a la lista token_row\n",
    "    for j in range(1,31):#bucle entre las columnas de procedimientos\n",
    "        field=\"Proced\"+str(j).zfill(2)#rellena el texto con el numero de la columna\n",
    "        token_row.append(1+len(token_diagnosticos)+token_procedimientos.index(row[field]))#obtiene el código de procedimientos de la celda actual, encuentra el índice del código de procedimientos en la lista token_diagnosticos,suma 1 y 377 al índice encontrado. El número 377 parece ser el total de codigos de diagnosticos unicos encontrados anteriormente. Esto se hace para que los tokens de procedimiento tengan valores distintos a los tokens de diagnóstico.\n",
    "    token_rows.append(token_row)#Después de procesar todas las columnas de diagnóstico y procedimiento de una fila, esto agrega la lista token_row\n",
    "\n",
    "len(token_diagnosticos) "
   ]
  },
  {
   "cell_type": "markdown",
   "metadata": {},
   "source": [
    "Codigo 1 Red Neuronal"
   ]
  },
  {
   "cell_type": "code",
   "execution_count": 13,
   "metadata": {},
   "outputs": [
    {
     "name": "stdout",
     "output_type": "stream",
     "text": [
      "Tamaño del vocabulario calculado: 757\n",
      "Longitud máxima de la secuencia: 65\n"
     ]
    }
   ],
   "source": [
    "\n",
    "# Asumiendo que 'data' es tu DataFrame filtrado y 'token_rows' es tu lista de tokens numéricos\n",
    "\n",
    "# Crear secuencias con diagnósticos y procedimientos\n",
    "secuencias_tokens = [row[:65] for row in token_rows]  # Tomar los primeros 65 tokens (diagnósticos y procedimientos)\n",
    "\n",
    "# Rellenar las secuencias para que tengan la misma longitud\n",
    "max_longitud = max(len(seq) for seq in secuencias_tokens)\n",
    "secuencias_padded = pad_sequences(secuencias_tokens, maxlen=max_longitud)\n",
    "\n",
    "# Codificar la variable objetivo 'GRD' a numérico\n",
    "le_grd = LabelEncoder()\n",
    "target_encoded = le_grd.fit_transform(data['GRD'])\n",
    "num_classes = len(np.unique(target_encoded))  # Asegurar el número correcto de clases\n",
    "\n",
    "\n",
    "# Dividir los datos en conjuntos de entrenamiento y prueba\n",
    "X_train, X_test, y_train, y_test = train_test_split(secuencias_padded, target_encoded, test_size=0.2, random_state=42)\n",
    "vocabulario_size = len(set(token for row in secuencias_tokens for token in row)) + 1  # +1 para el relleno\n",
    "vocabulario_size\n",
    "print(f\"Tamaño del vocabulario calculado: {vocabulario_size}\")\n",
    "print(f\"Longitud máxima de la secuencia: {max_longitud}\")"
   ]
  },
  {
   "cell_type": "code",
   "execution_count": 17,
   "metadata": {},
   "outputs": [
    {
     "name": "stdout",
     "output_type": "stream",
     "text": [
      "Epoch 1/10\n",
      "7/7 [==============================] - 1s 67ms/step - loss: 0.6792 - accuracy: 0.8157 - val_loss: 0.5037 - val_accuracy: 0.8364\n",
      "Epoch 2/10\n",
      "7/7 [==============================] - 0s 44ms/step - loss: 0.3723 - accuracy: 0.8894 - val_loss: 0.3776 - val_accuracy: 0.8909\n",
      "Epoch 3/10\n",
      "7/7 [==============================] - 0s 41ms/step - loss: 0.2857 - accuracy: 0.8894 - val_loss: 0.3096 - val_accuracy: 0.8364\n",
      "Epoch 4/10\n",
      "7/7 [==============================] - 0s 45ms/step - loss: 0.1882 - accuracy: 0.9309 - val_loss: 0.2533 - val_accuracy: 0.8909\n",
      "Epoch 5/10\n",
      "7/7 [==============================] - 0s 40ms/step - loss: 0.1365 - accuracy: 0.9631 - val_loss: 0.2477 - val_accuracy: 0.9091\n",
      "Epoch 6/10\n",
      "7/7 [==============================] - 0s 42ms/step - loss: 0.1013 - accuracy: 0.9677 - val_loss: 0.2556 - val_accuracy: 0.8909\n",
      "Epoch 7/10\n",
      "7/7 [==============================] - 0s 38ms/step - loss: 0.0761 - accuracy: 0.9770 - val_loss: 0.2522 - val_accuracy: 0.8727\n",
      "Epoch 8/10\n",
      "7/7 [==============================] - 0s 42ms/step - loss: 0.0598 - accuracy: 0.9816 - val_loss: 0.2508 - val_accuracy: 0.8727\n",
      "Epoch 9/10\n",
      "7/7 [==============================] - 0s 44ms/step - loss: 0.0460 - accuracy: 0.9816 - val_loss: 0.2701 - val_accuracy: 0.8909\n",
      "Epoch 10/10\n",
      "7/7 [==============================] - 0s 48ms/step - loss: 0.0373 - accuracy: 0.9816 - val_loss: 0.2860 - val_accuracy: 0.8909\n",
      "3/3 [==============================] - 0s 3ms/step - loss: 0.3437 - accuracy: 0.8696\n",
      "Loss: 0.343730092048645, Accuracy: 0.8695651888847351\n",
      "Valores únicos en y_train: [0 1 2]\n",
      "Valores únicos en y_test: [0 1 2]\n"
     ]
    }
   ],
   "source": [
    "\n",
    "model = Sequential()\n",
    "model.add(Embedding(vocabulario_size, 100, input_length=max_longitud))\n",
    "model.add(Flatten())\n",
    "model.add(Dense(256, activation='relu'))\n",
    "model.add(Dense(3, activation='softmax')) # 3 neuronas para las 3 clases\n",
    "\n",
    "model.compile(optimizer='adam', loss='sparse_categorical_crossentropy', metrics=['accuracy']) # Usar sparse_categorical_crossentropy\n",
    "\n",
    "# Configuración de TensorBoard\n",
    "log_dir = \"logs/fit/diagproc/\" + datetime.datetime.now().strftime(\"%Y%m%d-%H%M%S\")\n",
    "tensorboard_callback = TensorBoard(log_dir=log_dir, histogram_freq=1)\n",
    "\n",
    "# Entrenar el modelo con TensorBoard\n",
    "model.fit(X_train, y_train, epochs=10, batch_size=32, validation_split=0.2, callbacks=[tensorboard_callback])\n",
    "\n",
    "# Evaluar el modelo\n",
    "loss, accuracy = model.evaluate(X_test, y_test)\n",
    "print(f'Loss: {loss}, Accuracy: {accuracy}')\n",
    "\n",
    "# Imprimir información adicional\n",
    "print(\"Valores únicos en y_train:\", np.unique(y_train))\n",
    "print(\"Valores únicos en y_test:\", np.unique(y_test))"
   ]
  },
  {
   "cell_type": "code",
   "execution_count": 15,
   "metadata": {},
   "outputs": [
    {
     "name": "stdout",
     "output_type": "stream",
     "text": [
      "3/3 [==============================] - 0s 3ms/step\n"
     ]
    },
    {
     "data": {
      "image/png": "[encoded data removed]",
      "text/plain": [
       "<Figure size 800x600 with 2 Axes>"
      ]
     },
     "metadata": {},
     "output_type": "display_data"
    },
    {
     "name": "stdout",
     "output_type": "stream",
     "text": [
      "Número total de pruebas realizadas: 69\n",
      "Número total de filas analizadas: 341\n"
     ]
    }
   ],
   "source": [
    "# Obtener las predicciones del modelo\n",
    "y_pred = np.argmax(model.predict(X_test), axis=-1)\n",
    "\n",
    "# Calcular la matriz de confusión usando y_test y y_pred\n",
    "cm = confusion_matrix(y_test, y_pred)\n",
    "\n",
    "# Visualizar la matriz de confusión\n",
    "plt.figure(figsize=(8, 6))\n",
    "sns.heatmap(cm, annot=True, fmt='d', cmap='Blues')\n",
    "plt.xlabel('Predicciones')\n",
    "plt.ylabel('Etiquetas Verdaderas')\n",
    "plt.title('Matriz de Confusión (Red neuronal)')\n",
    "plt.show()\n",
    "\n",
    "# Imprimir el número total de pruebas realizadas\n",
    "total_pruebas = np.sum(cm)\n",
    "print(f\"Número total de pruebas realizadas: {total_pruebas}\")\n",
    "\n",
    "#imprimir el numero total de filas analizadas, si la variable data existe.\n",
    "try:\n",
    "  print(f\"Número total de filas analizadas: {len(data)}\")\n",
    "except NameError:\n",
    "  print(\"La variable 'data' no está definida.\")"
   ]
  },
  {
   "cell_type": "code",
   "execution_count": 16,
   "metadata": {},
   "outputs": [
    {
     "name": "stdout",
     "output_type": "stream",
     "text": [
      "Matriz de Confusión Binaria para la Clase 0:\n"
     ]
    },
    {
     "data": {
      "image/png": "[encoded data removed]",
      "text/plain": [
       "<Figure size 600x400 with 2 Axes>"
      ]
     },
     "metadata": {},
     "output_type": "display_data"
    },
    {
     "name": "stdout",
     "output_type": "stream",
     "text": [
      "Métricas para la Clase 0:\n",
      "  Precisión: 0.0000\n",
      "  Recall: 0.0000\n",
      "  F1-score: 0.0000\n",
      "------------------------------\n",
      "Matriz de Confusión Binaria para la Clase 1:\n"
     ]
    },
    {
     "data": {
      "image/png": "[encoded data removed]",
      "text/plain": [
       "<Figure size 600x400 with 2 Axes>"
      ]
     },
     "metadata": {},
     "output_type": "display_data"
    },
    {
     "name": "stdout",
     "output_type": "stream",
     "text": [
      "Métricas para la Clase 1:\n",
      "  Precisión: 0.6000\n",
      "  Recall: 0.2727\n",
      "  F1-score: 0.3750\n",
      "------------------------------\n",
      "Matriz de Confusión Binaria para la Clase 2:\n"
     ]
    },
    {
     "data": {
      "image/png": "[encoded data removed]",
      "text/plain": [
       "<Figure size 600x400 with 2 Axes>"
      ]
     },
     "metadata": {},
     "output_type": "display_data"
    },
    {
     "name": "stdout",
     "output_type": "stream",
     "text": [
      "Métricas para la Clase 2:\n",
      "  Precisión: 0.8750\n",
      "  Recall: 1.0000\n",
      "  F1-score: 0.9333\n",
      "------------------------------\n"
     ]
    }
   ],
   "source": [
    "num_clases = cm.shape[0]\n",
    "\n",
    "for i in range(num_clases):\n",
    "    # Crear matriz binaria para la clase i\n",
    "    cm_binario = np.zeros((2, 2), dtype=int)\n",
    "    cm_binario[0, 0] = cm[i, i]  # Verdaderos Positivos\n",
    "    cm_binario[0, 1] = np.sum(cm[i, :]) - cm[i, i]  # Falsos Negativos\n",
    "    cm_binario[1, 0] = np.sum(cm[:, i]) - cm[i, i]  # Falsos Positivos\n",
    "    cm_binario[1, 1] = np.sum(cm) - cm[i, :].sum() - cm[:, i].sum() + cm[i, i] # Verdaderos Negativos\n",
    "\n",
    "    print(f\"Matriz de Confusión Binaria para la Clase {i}:\")\n",
    "\n",
    "    # Visualizar la matriz de confusión binaria\n",
    "    plt.figure(figsize=(6, 4))\n",
    "    sns.heatmap(cm_binario, annot=True, fmt='d', cmap='Blues',\n",
    "                xticklabels=['Positivo', 'Negativo'],\n",
    "                yticklabels=['Positivo', 'Negativo'])\n",
    "    plt.xlabel('Predicción')\n",
    "    plt.ylabel('Verdadero')\n",
    "    plt.title(f'Matriz Binaria - Clase {i}')\n",
    "    plt.show()\n",
    "\n",
    "    # Calcular precisión, recall y F1-score para la clase i\n",
    "    tp = cm_binario[0, 0]\n",
    "    fp = cm_binario[1, 0]\n",
    "    fn = cm_binario[0, 1]\n",
    "\n",
    "    precision = tp / (tp + fp) if (tp + fp) > 0 else 0\n",
    "    recall = tp / (tp + fn) if (tp + fn) > 0 else 0\n",
    "    f1 = 2 * (precision * recall) / (precision + recall) if (precision + recall) > 0 else 0\n",
    "\n",
    "    print(f\"Métricas para la Clase {i}:\")\n",
    "    print(f\"  Precisión: {precision:.4f}\")\n",
    "    print(f\"  Recall: {recall:.4f}\")\n",
    "    print(f\"  F1-score: {f1:.4f}\")\n",
    "    print(\"-\" * 30)"
   ]
  }
 ],
 "metadata": {
  "kernelspec": {
   "display_name": "TF",
   "language": "python",
   "name": "python3"
  },
  "language_info": {
   "codemirror_mode": {
    "name": "ipython",
    "version": 3
   },
   "file_extension": ".py",
   "mimetype": "text/x-python",
   "name": "python",
   "nbconvert_exporter": "python",
   "pygments_lexer": "ipython3",
   "version": "3.10.13"
  }
 },
 "nbformat": 4,
 "nbformat_minor": 2
}
